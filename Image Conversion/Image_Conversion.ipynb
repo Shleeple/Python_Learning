{
 "cells": [
  {
   "cell_type": "code",
   "execution_count": 3,
   "id": "e95f2cf5",
   "metadata": {},
   "outputs": [
    {
     "name": "stdout",
     "output_type": "stream",
     "text": [
      "['AmongUs.png', 'Batman.png', 'Arthur.png']\n"
     ]
    }
   ],
   "source": [
    "from PIL import Image # Image Processing\n",
    "\n",
    "import glob # Used to return all file paths that match a specific pattern (similar to regex).\n",
    "\n",
    "print(glob.glob(\"*.png\")) # Gives list of files with extension .png\n",
    "\n",
    "# Based on Stack Overflow Answer: https://stackoverflow.com/a/43258974/5086355\n",
    "for file in glob.glob(\"*.png\"):\n",
    "    im = Image.open(file)\n",
    "    rgb_im = im.convert(\"RGB\")\n",
    "    rgb_im.save(file.replace(\"png\", \"jpg\"), quality=95)"
   ]
  },
  {
   "cell_type": "code",
   "execution_count": null,
   "id": "17d191e2",
   "metadata": {},
   "outputs": [],
   "source": []
  }
 ],
 "metadata": {
  "kernelspec": {
   "display_name": "Python 3 (ipykernel)",
   "language": "python",
   "name": "python3"
  },
  "language_info": {
   "codemirror_mode": {
    "name": "ipython",
    "version": 3
   },
   "file_extension": ".py",
   "mimetype": "text/x-python",
   "name": "python",
   "nbconvert_exporter": "python",
   "pygments_lexer": "ipython3",
   "version": "3.10.1"
  }
 },
 "nbformat": 4,
 "nbformat_minor": 5
}
