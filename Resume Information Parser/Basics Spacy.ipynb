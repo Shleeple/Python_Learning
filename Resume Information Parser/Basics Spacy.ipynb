{
 "cells": [
  {
   "cell_type": "code",
   "execution_count": 1,
   "id": "95ee0c72",
   "metadata": {},
   "outputs": [],
   "source": [
    "# Loading Library\n",
    "import spacy"
   ]
  },
  {
   "cell_type": "code",
   "execution_count": 5,
   "id": "add5fba8",
   "metadata": {},
   "outputs": [],
   "source": [
    "# Load English tokenizer, tagger, parser, NER and word vectors\n",
    "nlp = spacy.load('en_core_web_sm')"
   ]
  },
  {
   "cell_type": "code",
   "execution_count": 23,
   "id": "bd385902",
   "metadata": {},
   "outputs": [],
   "source": [
    "# SAMPLE TEXT\n",
    "text = 'Guido van Rossum began working on Python in the late 1980s, as a successor to the ABC programming language, and first released it in 1991 as Python 0.9.0.[33] Python 2.0 was released in 2000 and introduced new features, such as list comprehensions and a cycle-detecting garbage collection system (in addition to reference counting). Python 3.0 was released in 2008 and was a major revision of the language that is not completely backward-compatible. Python 2 was discontinued with version 2.7.18 in 2020.[34]'"
   ]
  },
  {
   "cell_type": "code",
   "execution_count": 24,
   "id": "3930164d",
   "metadata": {},
   "outputs": [
    {
     "data": {
      "text/plain": [
       "'Guido van Rossum began working on Python in the late 1980s, as a successor to the ABC programming language, and first released it in 1991 as Python 0.9.0.[33] Python 2.0 was released in 2000 and introduced new features, such as list comprehensions and a cycle-detecting garbage collection system (in addition to reference counting). Python 3.0 was released in 2008 and was a major revision of the language that is not completely backward-compatible. Python 2 was discontinued with version 2.7.18 in 2020.[34]'"
      ]
     },
     "execution_count": 24,
     "metadata": {},
     "output_type": "execute_result"
    }
   ],
   "source": [
    "text"
   ]
  },
  {
   "cell_type": "markdown",
   "id": "5ccc31fe",
   "metadata": {},
   "source": [
    "## NLP At Work"
   ]
  },
  {
   "cell_type": "code",
   "execution_count": 25,
   "id": "19b5b53b",
   "metadata": {},
   "outputs": [],
   "source": [
    "doc = nlp(text)"
   ]
  },
  {
   "cell_type": "markdown",
   "id": "05a983c9",
   "metadata": {},
   "source": [
    "## Tokenization"
   ]
  },
  {
   "cell_type": "code",
   "execution_count": 26,
   "id": "fd644a17",
   "metadata": {
    "scrolled": false
   },
   "outputs": [
    {
     "name": "stdout",
     "output_type": "stream",
     "text": [
      "Guido\n",
      "van\n",
      "Rossum\n",
      "began\n",
      "working\n",
      "on\n",
      "Python\n",
      "in\n",
      "the\n",
      "late\n",
      "1980s\n",
      ",\n",
      "as\n",
      "a\n",
      "successor\n",
      "to\n",
      "the\n",
      "ABC\n",
      "programming\n",
      "language\n",
      ",\n",
      "and\n",
      "first\n",
      "released\n",
      "it\n",
      "in\n",
      "1991\n",
      "as\n",
      "Python\n",
      "0.9.0.[33\n",
      "]\n",
      "Python\n",
      "2.0\n",
      "was\n",
      "released\n",
      "in\n",
      "2000\n",
      "and\n",
      "introduced\n",
      "new\n",
      "features\n",
      ",\n",
      "such\n",
      "as\n",
      "list\n",
      "comprehensions\n",
      "and\n",
      "a\n",
      "cycle\n",
      "-\n",
      "detecting\n",
      "garbage\n",
      "collection\n",
      "system\n",
      "(\n",
      "in\n",
      "addition\n",
      "to\n",
      "reference\n",
      "counting\n",
      ")\n",
      ".\n",
      "Python\n",
      "3.0\n",
      "was\n",
      "released\n",
      "in\n",
      "2008\n",
      "and\n",
      "was\n",
      "a\n",
      "major\n",
      "revision\n",
      "of\n",
      "the\n",
      "language\n",
      "that\n",
      "is\n",
      "not\n",
      "completely\n",
      "backward\n",
      "-\n",
      "compatible\n",
      ".\n",
      "Python\n",
      "2\n",
      "was\n",
      "discontinued\n",
      "with\n",
      "version\n",
      "2.7.18\n",
      "in\n",
      "2020.[34\n",
      "]\n"
     ]
    }
   ],
   "source": [
    "for token in doc:\n",
    "    print(token)"
   ]
  },
  {
   "cell_type": "markdown",
   "id": "89ac7acc",
   "metadata": {},
   "source": [
    "## Only Noun"
   ]
  },
  {
   "cell_type": "code",
   "execution_count": 27,
   "id": "3dbd6383",
   "metadata": {},
   "outputs": [
    {
     "name": "stdout",
     "output_type": "stream",
     "text": [
      "1980s\n",
      "successor\n",
      "programming\n",
      "language\n",
      "features\n",
      "list\n",
      "comprehensions\n",
      "cycle\n",
      "garbage\n",
      "collection\n",
      "system\n",
      "addition\n",
      "reference\n",
      "counting\n",
      "revision\n",
      "language\n",
      "version\n"
     ]
    }
   ],
   "source": [
    "for token in doc:\n",
    "    if token.pos_ == \"NOUN\": #pos_ = part of speech, can be \"VERB\", \"ADJ\", etc.\n",
    "        print(token)"
   ]
  },
  {
   "cell_type": "markdown",
   "id": "fb29cbeb",
   "metadata": {},
   "source": [
    "## Named Entity Recognition"
   ]
  },
  {
   "cell_type": "code",
   "execution_count": 28,
   "id": "e173b3f6",
   "metadata": {},
   "outputs": [
    {
     "name": "stdout",
     "output_type": "stream",
     "text": [
      "Guido van Rossum PERSON\n",
      "the late 1980s DATE\n",
      "ABC ORG\n",
      "first ORDINAL\n",
      "1991 DATE\n",
      "2.0 CARDINAL\n",
      "2000 DATE\n",
      "3.0 CARDINAL\n",
      "2008 DATE\n",
      "2 CARDINAL\n",
      "2.7.18 CARDINAL\n",
      "2020.[34 CARDINAL\n"
     ]
    }
   ],
   "source": [
    "for entity in doc.ents:\n",
    "    print(entity.text, entity.label_)"
   ]
  },
  {
   "cell_type": "code",
   "execution_count": null,
   "id": "3e8ad647",
   "metadata": {},
   "outputs": [],
   "source": []
  }
 ],
 "metadata": {
  "kernelspec": {
   "display_name": "Python 3 (ipykernel)",
   "language": "python",
   "name": "python3"
  },
  "language_info": {
   "codemirror_mode": {
    "name": "ipython",
    "version": 3
   },
   "file_extension": ".py",
   "mimetype": "text/x-python",
   "name": "python",
   "nbconvert_exporter": "python",
   "pygments_lexer": "ipython3",
   "version": "3.10.1"
  }
 },
 "nbformat": 4,
 "nbformat_minor": 5
}
