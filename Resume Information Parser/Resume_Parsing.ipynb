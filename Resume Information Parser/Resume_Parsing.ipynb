{
 "cells": [
  {
   "cell_type": "code",
   "execution_count": 50,
   "id": "5ca5687f",
   "metadata": {},
   "outputs": [],
   "source": [
    "import spacy #nlp\n",
    "import pdfminer #pdf2txt\n",
    "import re #regex\n",
    "import os #file manip\n",
    "import pandas as pd #csv- tabular"
   ]
  },
  {
   "cell_type": "code",
   "execution_count": 8,
   "id": "b56ef14c",
   "metadata": {},
   "outputs": [],
   "source": [
    "import pdf2txt"
   ]
  },
  {
   "cell_type": "markdown",
   "id": "284d3115",
   "metadata": {},
   "source": [
    "## Converting pdf to txt"
   ]
  },
  {
   "cell_type": "code",
   "execution_count": 16,
   "id": "ec55c109",
   "metadata": {},
   "outputs": [],
   "source": [
    "def convert_pdf(f):\n",
    "    output_filename = os.path.basename(os.path.splitext(f)[0]) + \".txt\" # gets filename with .txt extension\n",
    "    output_filepath = os.path.join(\"Output/txt/\", output_filename) # gets the desired output path\n",
    "    pdf2txt.main(args=[f, \"--outfile\", output_filepath]) # input pdf to txt and save it in the given location\n",
    "    print(output_filepath + \" saved successfully!\")\n",
    "    return open(output_filepath, encoding='utf8').read() # Opens the file, reads it, and returns that"
   ]
  },
  {
   "cell_type": "markdown",
   "id": "430979bb",
   "metadata": {},
   "source": [
    "## Load Languaje Model"
   ]
  },
  {
   "cell_type": "code",
   "execution_count": 10,
   "id": "2a316008",
   "metadata": {},
   "outputs": [],
   "source": [
    "nlp = spacy.load(\"en_core_web_sm\")"
   ]
  },
  {
   "cell_type": "markdown",
   "id": "68c2c5a4",
   "metadata": {},
   "source": [
    "## Declare placeholder lists and dictionary"
   ]
  },
  {
   "cell_type": "code",
   "execution_count": 38,
   "id": "655a27a6",
   "metadata": {},
   "outputs": [],
   "source": [
    "result_dict = {'name':[], 'phone':[], 'email':[], 'skills':[]}\n",
    "names = []\n",
    "phones = []\n",
    "emails = []\n",
    "skills = []"
   ]
  },
  {
   "cell_type": "markdown",
   "id": "8a8387f1",
   "metadata": {},
   "source": [
    "## Function to actually parse the information"
   ]
  },
  {
   "cell_type": "code",
   "execution_count": 39,
   "id": "4274d60e",
   "metadata": {},
   "outputs": [],
   "source": [
    "# source of phone_number regex: 'https://stackoverflow.com/a/3868861'"
   ]
  },
  {
   "cell_type": "code",
   "execution_count": 40,
   "id": "70d3c070",
   "metadata": {},
   "outputs": [],
   "source": [
    "def parse_content(text):\n",
    "    # compiling regex por skillset\n",
    "    skillset = re.compile(\"java|sql|css|python|django\") \n",
    "    \n",
    "    # compiling regex por phone number\n",
    "    phone_num = re.compile(\"(\\d{3}[-\\.\\s]??\\d{3}[-\\.\\s]??\\d{4}|\\(\\d{3}\\)\\s*\\d{3}[-\\.\\s]??\\d{4}|\\d{3}[-\\.\\s]??\\d{4})\") \n",
    "    \n",
    "    doc = nlp(text)\n",
    "    name = [entity.text for entity in doc.ents if entity.label_ == \"PERSON\"][0] # Grabs the first entity labeled \"PERSON\"\n",
    "    print(name)\n",
    "    email = [word for word in doc if word.like_email == True][0] # Grabs the first email found\n",
    "    print(email)\n",
    "    phone = str(re.findall(phone_num, text.lower())) # finds the phone number in text, using the regex 'phone_num'\n",
    "    skills_list = re.findall(skillset, text.lower()) # finds skills using the regex skillset, using lowercase to avoid issues\n",
    "    unique_skills_list = str(set(skills_list)) # makes sure a skill is only listed once, even if it's found many times in text\n",
    "    \n",
    "    # Append information to placeholder lists\n",
    "    names.append(name)\n",
    "    emails.append(email)\n",
    "    phones.append(phone)\n",
    "    skills.append(unique_skills_list)\n",
    "    print(skills[-1])\n",
    "    \n",
    "    print(\"Extraction completed successfully!\")"
   ]
  },
  {
   "cell_type": "markdown",
   "id": "1ddb8685",
   "metadata": {},
   "source": [
    "## Loop to parse all PDFs"
   ]
  },
  {
   "cell_type": "code",
   "execution_count": 41,
   "id": "2451335b",
   "metadata": {
    "scrolled": false
   },
   "outputs": [
    {
     "name": "stdout",
     "output_type": "stream",
     "text": [
      "Reading..... AleksLudkee.pdf\n",
      "Output/txt/AleksLudkee.txt saved successfully!\n",
      "Developed\n",
      "ludkee.aleks@email.com\n",
      "{'css', 'java'}\n",
      "Extraction completed successfully!\n",
      "\n",
      "Reading..... BenjaminWallace.pdf\n",
      "Output/txt/BenjaminWallace.txt saved successfully!\n",
      "Kafka\n",
      "benwallace@email.com\n",
      "{'sql', 'python', 'java'}\n",
      "Extraction completed successfully!\n",
      "\n",
      "Reading..... DanteSmallwood.pdf\n",
      "Output/txt/DanteSmallwood.txt saved successfully!\n",
      "JavaScript\n",
      "dsmallwood@email.com\n",
      "{'css', 'java'}\n",
      "Extraction completed successfully!\n",
      "\n",
      "Reading..... SarahWong.pdf\n",
      "Output/txt/SarahWong.txt saved successfully!\n",
      "JavaScript\n",
      "sarahjwong@email.com\n",
      "{'sql', 'java', 'css', 'python', 'django'}\n",
      "Extraction completed successfully!\n",
      "\n",
      "Reading..... JamesRyan.pdf\n",
      "Output/txt/JamesRyan.txt saved successfully!\n",
      "JAMES RYAN\n",
      "jamesryan@email.com\n",
      "{'css', 'sql', 'java'}\n",
      "Extraction completed successfully!\n",
      "\n"
     ]
    }
   ],
   "source": [
    "for file in os.listdir('Resumes/'): # Reads through every file in the 'Resumes' folder\n",
    "    if file.endswith('.pdf'): # Validates that will only go through PDF files\n",
    "        print(\"Reading..... \" + file)\n",
    "        txt = convert_pdf(os.path.join('Resumes/', file)) # Converts the file to txt, opens it and reads it to txt\n",
    "        parse_content(txt) # Parses the file read to txt\n",
    "        print('')"
   ]
  },
  {
   "cell_type": "code",
   "execution_count": 48,
   "id": "0d4981da",
   "metadata": {},
   "outputs": [],
   "source": [
    "result_dict['name'] = names\n",
    "result_dict['phone'] = phones\n",
    "result_dict['skills'] = skills\n",
    "result_dict['email'] = emails"
   ]
  },
  {
   "cell_type": "code",
   "execution_count": 54,
   "id": "5206a60b",
   "metadata": {},
   "outputs": [
    {
     "data": {
      "text/html": [
       "<div>\n",
       "<style scoped>\n",
       "    .dataframe tbody tr th:only-of-type {\n",
       "        vertical-align: middle;\n",
       "    }\n",
       "\n",
       "    .dataframe tbody tr th {\n",
       "        vertical-align: top;\n",
       "    }\n",
       "\n",
       "    .dataframe thead th {\n",
       "        text-align: right;\n",
       "    }\n",
       "</style>\n",
       "<table border=\"1\" class=\"dataframe\">\n",
       "  <thead>\n",
       "    <tr style=\"text-align: right;\">\n",
       "      <th></th>\n",
       "      <th>name</th>\n",
       "      <th>phone</th>\n",
       "      <th>email</th>\n",
       "      <th>skills</th>\n",
       "    </tr>\n",
       "  </thead>\n",
       "  <tbody>\n",
       "    <tr>\n",
       "      <th>0</th>\n",
       "      <td>Developed</td>\n",
       "      <td>['(123) 456-7890']</td>\n",
       "      <td>ludkee.aleks@email.com</td>\n",
       "      <td>{'css', 'java'}</td>\n",
       "    </tr>\n",
       "    <tr>\n",
       "      <th>1</th>\n",
       "      <td>Kafka</td>\n",
       "      <td>['(123) 456-7890']</td>\n",
       "      <td>benwallace@email.com</td>\n",
       "      <td>{'sql', 'python', 'java'}</td>\n",
       "    </tr>\n",
       "    <tr>\n",
       "      <th>2</th>\n",
       "      <td>JavaScript</td>\n",
       "      <td>['(123) 456-7890']</td>\n",
       "      <td>dsmallwood@email.com</td>\n",
       "      <td>{'css', 'java'}</td>\n",
       "    </tr>\n",
       "    <tr>\n",
       "      <th>3</th>\n",
       "      <td>JavaScript</td>\n",
       "      <td>['(123) 456-7890']</td>\n",
       "      <td>sarahjwong@email.com</td>\n",
       "      <td>{'sql', 'java', 'css', 'python', 'django'}</td>\n",
       "    </tr>\n",
       "    <tr>\n",
       "      <th>4</th>\n",
       "      <td>JAMES RYAN</td>\n",
       "      <td>['(123) 456-7890']</td>\n",
       "      <td>jamesryan@email.com</td>\n",
       "      <td>{'css', 'sql', 'java'}</td>\n",
       "    </tr>\n",
       "  </tbody>\n",
       "</table>\n",
       "</div>"
      ],
      "text/plain": [
       "         name               phone                   email  \\\n",
       "0   Developed  ['(123) 456-7890']  ludkee.aleks@email.com   \n",
       "1       Kafka  ['(123) 456-7890']    benwallace@email.com   \n",
       "2  JavaScript  ['(123) 456-7890']    dsmallwood@email.com   \n",
       "3  JavaScript  ['(123) 456-7890']    sarahjwong@email.com   \n",
       "4  JAMES RYAN  ['(123) 456-7890']     jamesryan@email.com   \n",
       "\n",
       "                                       skills  \n",
       "0                             {'css', 'java'}  \n",
       "1                   {'sql', 'python', 'java'}  \n",
       "2                             {'css', 'java'}  \n",
       "3  {'sql', 'java', 'css', 'python', 'django'}  \n",
       "4                      {'css', 'sql', 'java'}  "
      ]
     },
     "execution_count": 54,
     "metadata": {},
     "output_type": "execute_result"
    }
   ],
   "source": [
    "result_df = pd.DataFrame(result_dict) # Converts result dictionary into Pandas DataFrame\n",
    "result_df"
   ]
  },
  {
   "cell_type": "code",
   "execution_count": 56,
   "id": "7f93bd9c",
   "metadata": {},
   "outputs": [],
   "source": [
    "result_df.to_csv('Output/csv/parsed_resumes.csv') # Stores Pandas DataFrame into a csv file in the directory we chose"
   ]
  },
  {
   "cell_type": "markdown",
   "id": "78ee3909",
   "metadata": {},
   "source": [
    "## Now we can download the Jupyter Notebook as a .py file, so that it's usable by others"
   ]
  }
 ],
 "metadata": {
  "kernelspec": {
   "display_name": "Python 3 (ipykernel)",
   "language": "python",
   "name": "python3"
  },
  "language_info": {
   "codemirror_mode": {
    "name": "ipython",
    "version": 3
   },
   "file_extension": ".py",
   "mimetype": "text/x-python",
   "name": "python",
   "nbconvert_exporter": "python",
   "pygments_lexer": "ipython3",
   "version": "3.10.1"
  }
 },
 "nbformat": 4,
 "nbformat_minor": 5
}
